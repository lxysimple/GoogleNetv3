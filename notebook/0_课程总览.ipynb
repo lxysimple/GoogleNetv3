{
 "cells": [
  {
   "cell_type": "markdown",
   "metadata": {},
   "source": [
    "# Rethinking the Inception Architecture for Computer Vision\n",
    "# 导师：余老师"
   ]
  },
  {
   "cell_type": "markdown",
   "metadata": {},
   "source": [
    "# 1 前言\n",
    "## 1.1课程回顾\n",
    "<img src=\"./imgs/review.png\"  width=\"700\" height=\"700\" align=\"bottom\" />"
   ]
  },
  {
   "cell_type": "markdown",
   "metadata": {},
   "source": [
    "### googlenet-v3 architecture\n",
    "<img src=\"./imgs/arch.png\"  width=\"500\" height=\"700\" align=\"bottom\" />"
   ]
  },
  {
   "cell_type": "markdown",
   "metadata": {},
   "source": [
    "## 1.2 GoogLeNet-V3 代码结构\n",
    "<img src=\"./imgs/prj_struct1.png\"  width=\"300\" height=\"500\" align=\"left\" />"
   ]
  },
  {
   "cell_type": "markdown",
   "metadata": {},
   "source": [
    "# 2 准备工作\n",
    "## 2.1项目环境配置\n",
    " \n",
    "* Python 3.x\n",
    "* jupyter notebook\n",
    "* torch           >1.0\n",
    "* torchsummary    1.5.1\n",
    "* torchvision     0.4.0+cu92\n",
    "* Pillow          6.1.0\n",
    "* numpy           1.17.0\n",
    "* opencv-python   4.1.2.30\n"
   ]
  },
  {
   "cell_type": "markdown",
   "metadata": {},
   "source": [
    "## 2.2 数据集下载\n",
    "　　海洋渔业分类，可以在https://www.kaggle.com/c/the-nature-conservancy-fisheries-monitoring/data 上下载\n",
    "### 2.2.1 数据集简介\n",
    "    为了保护和监控海洋环境及生态平衡，大自然保护协会（The Nature Conservancy）希望开发者能开发处机器学习算法，自动分类和识别远洋捕捞船上的摄像头拍摄到的图片中鱼类的品种。\n",
    "    \n",
    "    大自然保护协会一共提供了3777张标注的图片作为训练集，这些图片被分为了8类，其中7类是不同种类的海鱼，剩余1类则是不含有鱼的图片，每张图片只属于8类中的某一类别\n",
    "\n",
    "<img src=\"./imgs/fish.jpg\"  width=\"700\" height=\"1000\"/>\n",
    "    \n",
    "### 真实样本\n",
    "   \n",
    "<img src=\"./imgs/img_example.jpg\"  width=\"1200\" height=\"2000\" align=\"bottom\" /> \n",
    "\n",
    "### 数据存放\n",
    "<img src=\"./imgs/data_struct.jpg\"  width=\"300\" height=\"700\" align=\"bottom\" /> \n"
   ]
  },
  {
   "cell_type": "markdown",
   "metadata": {},
   "source": [
    "  \n",
    "## 2.3 预训练权重下载\n",
    "    'inception_v3_google': 'https://download.pytorch.org/models/inception_v3_google-1a9a5a14.pth',\n",
    "放到: F:\\cv_paper\\lesson\\E_GoogLeNet_v3\\data"
   ]
  },
  {
   "cell_type": "markdown",
   "metadata": {},
   "source": [
    "# 3 项目代码结构（pycharm中演示）\n",
    "\n",
    "## 3.1 googlenet_v3_inference\n",
    "    \n",
    "    采用在Imagenet上预训练的GooLeNet-V3模型进行分类测试 （跳转pycharm，观察效果）\n",
    "\n",
    "\n",
    "## 3.2 train_googlenet_v3\n",
    "    \n",
    "    构建一个GoogLeNet-V3 模型，在鱼类数据集上训练分类任务,并讲解Label Smoothing 应用（跳转pycharm，观察效果）"
   ]
  },
  {
   "cell_type": "markdown",
   "metadata": {},
   "source": [
    "# 4 算法模块及细节\n",
    "\n",
    "### 4.1  googlenet_v3_inference.py中各函数模块详解（跳转 1_inference.ipynb 结合 3_googlenet_v3_arch.ipynb讲解googlenet-v3结构定义）\n",
    " \n",
    "### 4.2 train_googlenet_v3.py 中各函数模块详解（跳转 2_train_googlenet.ipynb 结合 4_LabelSmoothing.ipynb讲解Label Smoothing Loss计算）\n"
   ]
  },
  {
   "cell_type": "markdown",
   "metadata": {},
   "source": [
    "# 5 Pycharm整体演示\n",
    "\n",
    "　　回到pycharm环境中回顾一下项目工程"
   ]
  },
  {
   "cell_type": "markdown",
   "metadata": {},
   "source": [
    "# 6 作业\n",
    "\n",
    "\n",
    "\n",
    "    1：文字回答：GoogLeNet-V3中，特征图分辨率从35*35降到17*17，采用的是Inception（ABCDE）中的哪一个? 对应论文中哪一幅图？该结构最大的特点是什么？\n",
    "    2：文字回答：Label Smoothing 对模型训练有什么积极影响？ 其中的epsilon参数作用是什么？\n",
    "    3：文字回答：卷积分解有哪两种形式？ 分别在Inception（ABCDE）中何处使用？\n",
    "    4：文字回答：读完该论文，对你的启发点有哪些？\n",
    "    5：代码实现：从网上找一张图片，执行GoogLeNet，观察top5输出的类别，并将输出结果截图进行打卡。\n"
   ]
  },
  {
   "cell_type": "code",
   "execution_count": null,
   "metadata": {},
   "outputs": [],
   "source": []
  }
 ],
 "metadata": {
  "colab": {
   "authorship_tag": "ABX9TyMaJPtlMHur6DonwEyZLw5h",
   "collapsed_sections": [],
   "name": "data process and load.ipynb",
   "provenance": []
  },
  "kernelspec": {
   "display_name": "pytorch_1.4_gpu",
   "language": "python",
   "name": "pytorch_1.4_gpu"
  },
  "language_info": {
   "codemirror_mode": {
    "name": "ipython",
    "version": 3
   },
   "file_extension": ".py",
   "mimetype": "text/x-python",
   "name": "python",
   "nbconvert_exporter": "python",
   "pygments_lexer": "ipython3",
   "version": "3.6.10"
  }
 },
 "nbformat": 4,
 "nbformat_minor": 1
}
